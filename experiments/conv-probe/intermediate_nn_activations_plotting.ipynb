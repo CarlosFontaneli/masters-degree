{
 "cells": [
  {
   "cell_type": "code",
   "execution_count": 1,
   "metadata": {},
   "outputs": [],
   "source": [
    "import sys\n",
    "sys.path.append('/home/fonta42/Desktop/masters-degree/data/vess-map/')\n",
    "from vess_map_dataset import VessMapDataset\n",
    "\n",
    "import torch\n",
    "from torchvision import models\n",
    "import torchvision.transforms as transforms\n",
    "import matplotlib.pyplot as plt\n",
    "import random"
   ]
  },
  {
   "cell_type": "code",
   "execution_count": 2,
   "metadata": {},
   "outputs": [],
   "source": [
    "# Define paths\n",
    "image_dir = '/home/fonta42/Desktop/masters-degree/data/vess-map/images'\n",
    "mask_dir = '/home/fonta42/Desktop/masters-degree/data/vess-map/labels'\n",
    "skeleton_dir = '/home/fonta42/Desktop/masters-degree/data/vess-map/skeletons'\n",
    "\n",
    "image_size = 256\n",
    "\n",
    "# Instantiate the dataset\n",
    "dataset = VessMapDataset(image_dir, mask_dir, skeleton_dir, image_size)\n",
    "\n",
    "# Access the images\n",
    "images = dataset.images  "
   ]
  },
  {
   "cell_type": "code",
   "execution_count": 3,
   "metadata": {},
   "outputs": [
    {
     "name": "stderr",
     "output_type": "stream",
     "text": [
      "/home/fonta42/anaconda3/envs/mestrado/lib/python3.11/site-packages/torchvision/models/_utils.py:208: UserWarning: The parameter 'pretrained' is deprecated since 0.13 and may be removed in the future, please use 'weights' instead.\n",
      "  warnings.warn(\n",
      "/home/fonta42/anaconda3/envs/mestrado/lib/python3.11/site-packages/torchvision/models/_utils.py:223: UserWarning: Arguments other than a weight enum or `None` for 'weights' are deprecated since 0.13 and may be removed in the future. The current behavior is equivalent to passing `weights=ResNet18_Weights.IMAGENET1K_V1`. You can also use `weights=ResNet18_Weights.DEFAULT` to get the most up-to-date weights.\n",
      "  warnings.warn(msg)\n"
     ]
    }
   ],
   "source": [
    "# Load pre-trained ResNet18 model\n",
    "model = models.resnet18(pretrained=True)\n",
    "model.eval()\n",
    "\n",
    "activations = {}\n",
    "\n",
    "# Function to get the activation of a layer\n",
    "def get_activation(name):\n",
    "    def hook(model, input, output):\n",
    "        activations[name] = output.detach()\n",
    "    return hook\n",
    "\n",
    "# Register hooks to all layers\n",
    "for name, layer in model.named_modules():\n",
    "    layer.register_forward_hook(get_activation(name))"
   ]
  },
  {
   "cell_type": "code",
   "execution_count": 4,
   "metadata": {},
   "outputs": [],
   "source": [
    "# Object to transform images to tensors\n",
    "preprocess = transforms.Compose([\n",
    "    transforms.ToTensor(),\n",
    "])\n",
    "\n",
    "# Test image\n",
    "img = images[0]  # PIL Image\n",
    "\n",
    "# To tensor\n",
    "input_tensor = preprocess(img)\n",
    "input_batch = input_tensor.unsqueeze(0)  # Add batch dimension\n",
    "\n",
    "# Move input to gpu\n",
    "device = torch.device('cuda' if torch.cuda.is_available() else 'cpu')\n",
    "input_batch = input_batch.to(device)\n",
    "model.to(device)\n",
    "\n",
    "# Pass the image through the model to collect activations\n",
    "with torch.no_grad():\n",
    "    output = model(input_batch)"
   ]
  },
  {
   "cell_type": "code",
   "execution_count": null,
   "metadata": {},
   "outputs": [],
   "source": [
    "from collections import defaultdict\n",
    "\n",
    "# Initialize a dictionary to hold groups\n",
    "layer_groups = defaultdict(list)\n",
    "\n",
    "for layer_name in activations.keys():\n",
    "    #print(layer_name)\n",
    "    # Determine the group name\n",
    "    if layer_name.startswith('layer'):\n",
    "        # Extract the layer number, e.g., 'layer1', 'layer2'\n",
    "        group_name = layer_name.split('.')[0]\n",
    "    else:\n",
    "        # Layers that dont start with \"layer\"\n",
    "        group_name = layer_name\n",
    "\n",
    "    # Add the layer to group\n",
    "    layer_groups[group_name].append(layer_name)\n",
    "\n",
    "for group_name in sorted(layer_groups.keys()):\n",
    "    print(f\"{group_name}:\")\n",
    "    for lname in layer_groups[group_name]:\n",
    "        print(f\"  {lname}\")"
   ]
  },
  {
   "cell_type": "code",
   "execution_count": 6,
   "metadata": {},
   "outputs": [],
   "source": [
    "def plot_activations(activations, original_image, num_activations=5, layer_types=None):\n",
    "    for layer_name, activation in activations.items():\n",
    "        if layer_types:\n",
    "            # Only plot if layer_name contains any of the layer_types\n",
    "            if not any(layer_type in layer_name for layer_type in layer_types):\n",
    "                continue  \n",
    "\n",
    "        # Check if activation is a 4D tensor (batch_size, channels, height, width)\n",
    "        if activation.dim() == 4:\n",
    "            # Get the number of channels\n",
    "            num_channels = activation.size(1)\n",
    "            # Randomly select channels to plot\n",
    "            channel_indices = random.sample(range(num_channels), min(num_activations, num_channels))\n",
    "                \n",
    "            fig, axes = plt.subplots(1, len(channel_indices), figsize=(15, 5))\n",
    "            original_plot_idx = 2\n",
    "            for idx, channel_idx in enumerate(channel_indices):                    \n",
    "                ax = axes[idx]\n",
    "                # Extract the activation of the selected channel\n",
    "                act = activation[0, channel_idx].cpu().numpy()\n",
    "                \n",
    "                # Plots the original image on the central plot\n",
    "                if idx == original_plot_idx:\n",
    "                    img = ax.imshow(original_image, cmap='gray')\n",
    "                    ax.set_title(f'Original Image')\n",
    "                else:\n",
    "                    img = ax.imshow(act, cmap='RdYlGn')\n",
    "                    ax.set_title(f'Layer: {layer_name}\\nChannel: {channel_idx}')\n",
    "                \n",
    "                # Add colorbar for activations\n",
    "                if idx != original_plot_idx:\n",
    "                    plt.colorbar(img, ax=ax, orientation='vertical', fraction=0.046, pad=0.04)\n",
    "\n",
    "                ax.axis('off')\n",
    "            plt.tight_layout()\n",
    "            plt.show()"
   ]
  },
  {
   "cell_type": "code",
   "execution_count": null,
   "metadata": {},
   "outputs": [],
   "source": [
    "plot_activations(activations, img, num_activations=5, layer_types=['conv'])"
   ]
  },
  {
   "cell_type": "code",
   "execution_count": null,
   "metadata": {},
   "outputs": [],
   "source": [
    "plot_activations(activations, img, num_activations=5)"
   ]
  }
 ],
 "metadata": {
  "kernelspec": {
   "display_name": "mestrado",
   "language": "python",
   "name": "python3"
  },
  "language_info": {
   "codemirror_mode": {
    "name": "ipython",
    "version": 3
   },
   "file_extension": ".py",
   "mimetype": "text/x-python",
   "name": "python",
   "nbconvert_exporter": "python",
   "pygments_lexer": "ipython3",
   "version": "3.11.10"
  }
 },
 "nbformat": 4,
 "nbformat_minor": 2
}
